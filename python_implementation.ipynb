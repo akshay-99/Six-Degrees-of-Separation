{
 "cells": [
  {
   "cell_type": "code",
   "execution_count": 1,
   "metadata": {},
   "outputs": [],
   "source": [
    "import requests"
   ]
  },
  {
   "cell_type": "code",
   "execution_count": 2,
   "metadata": {},
   "outputs": [],
   "source": [
    "response = requests.get('https://api.github.com/users/akshay-99/followers', auth=('akshay-99', '295b0e1bdd1e8b05619eee8a7a50d3fa7912f99c'))"
   ]
  },
  {
   "cell_type": "code",
   "execution_count": 3,
   "metadata": {},
   "outputs": [
    {
     "data": {
      "text/plain": [
       "<Response [200]>"
      ]
     },
     "execution_count": 3,
     "metadata": {},
     "output_type": "execute_result"
    }
   ],
   "source": []
  },
  {
   "cell_type": "code",
   "execution_count": 5,
   "metadata": {},
   "outputs": [
    {
     "data": {
      "text/plain": [
       "'[{\"login\":\"aditya1999\",\"id\":31011197,\"node_id\":\"MDQ6VXNlcjMxMDExMTk3\",\"avatar_url\":\"https://avatars1.githubusercontent.com/u/31011197?v=4\",\"gravatar_id\":\"\",\"url\":\"https://api.github.com/users/aditya1999\",\"html_url\":\"https://github.com/aditya1999\",\"followers_url\":\"https://api.github.com/users/aditya1999/followers\",\"following_url\":\"https://api.github.com/users/aditya1999/following{/other_user}\",\"gists_url\":\"https://api.github.com/users/aditya1999/gists{/gist_id}\",\"starred_url\":\"https://api.github.com/users/aditya1999/starred{/owner}{/repo}\",\"subscriptions_url\":\"https://api.github.com/users/aditya1999/subscriptions\",\"organizations_url\":\"https://api.github.com/users/aditya1999/orgs\",\"repos_url\":\"https://api.github.com/users/aditya1999/repos\",\"events_url\":\"https://api.github.com/users/aditya1999/events{/privacy}\",\"received_events_url\":\"https://api.github.com/users/aditya1999/received_events\",\"type\":\"User\",\"site_admin\":false},{\"login\":\"nilshah98\",\"id\":22821480,\"node_id\":\"MDQ6VXNlcjIyODIxNDgw\",\"avatar_url\":\"https://avatars0.githubusercontent.com/u/22821480?v=4\",\"gravatar_id\":\"\",\"url\":\"https://api.github.com/users/nilshah98\",\"html_url\":\"https://github.com/nilshah98\",\"followers_url\":\"https://api.github.com/users/nilshah98/followers\",\"following_url\":\"https://api.github.com/users/nilshah98/following{/other_user}\",\"gists_url\":\"https://api.github.com/users/nilshah98/gists{/gist_id}\",\"starred_url\":\"https://api.github.com/users/nilshah98/starred{/owner}{/repo}\",\"subscriptions_url\":\"https://api.github.com/users/nilshah98/subscriptions\",\"organizations_url\":\"https://api.github.com/users/nilshah98/orgs\",\"repos_url\":\"https://api.github.com/users/nilshah98/repos\",\"events_url\":\"https://api.github.com/users/nilshah98/events{/privacy}\",\"received_events_url\":\"https://api.github.com/users/nilshah98/received_events\",\"type\":\"User\",\"site_admin\":false},{\"login\":\"nurdtechie98\",\"id\":21201278,\"node_id\":\"MDQ6VXNlcjIxMjAxMjc4\",\"avatar_url\":\"https://avatars0.githubusercontent.com/u/21201278?v=4\",\"gravatar_id\":\"\",\"url\":\"https://api.github.com/users/nurdtechie98\",\"html_url\":\"https://github.com/nurdtechie98\",\"followers_url\":\"https://api.github.com/users/nurdtechie98/followers\",\"following_url\":\"https://api.github.com/users/nurdtechie98/following{/other_user}\",\"gists_url\":\"https://api.github.com/users/nurdtechie98/gists{/gist_id}\",\"starred_url\":\"https://api.github.com/users/nurdtechie98/starred{/owner}{/repo}\",\"subscriptions_url\":\"https://api.github.com/users/nurdtechie98/subscriptions\",\"organizations_url\":\"https://api.github.com/users/nurdtechie98/orgs\",\"repos_url\":\"https://api.github.com/users/nurdtechie98/repos\",\"events_url\":\"https://api.github.com/users/nurdtechie98/events{/privacy}\",\"received_events_url\":\"https://api.github.com/users/nurdtechie98/received_events\",\"type\":\"User\",\"site_admin\":false},{\"login\":\"Kadam-Tushar\",\"id\":34245555,\"node_id\":\"MDQ6VXNlcjM0MjQ1NTU1\",\"avatar_url\":\"https://avatars3.githubusercontent.com/u/34245555?v=4\",\"gravatar_id\":\"\",\"url\":\"https://api.github.com/users/Kadam-Tushar\",\"html_url\":\"https://github.com/Kadam-Tushar\",\"followers_url\":\"https://api.github.com/users/Kadam-Tushar/followers\",\"following_url\":\"https://api.github.com/users/Kadam-Tushar/following{/other_user}\",\"gists_url\":\"https://api.github.com/users/Kadam-Tushar/gists{/gist_id}\",\"starred_url\":\"https://api.github.com/users/Kadam-Tushar/starred{/owner}{/repo}\",\"subscriptions_url\":\"https://api.github.com/users/Kadam-Tushar/subscriptions\",\"organizations_url\":\"https://api.github.com/users/Kadam-Tushar/orgs\",\"repos_url\":\"https://api.github.com/users/Kadam-Tushar/repos\",\"events_url\":\"https://api.github.com/users/Kadam-Tushar/events{/privacy}\",\"received_events_url\":\"https://api.github.com/users/Kadam-Tushar/received_events\",\"type\":\"User\",\"site_admin\":false},{\"login\":\"inishchith\",\"id\":20226361,\"node_id\":\"MDQ6VXNlcjIwMjI2MzYx\",\"avatar_url\":\"https://avatars3.githubusercontent.com/u/20226361?v=4\",\"gravatar_id\":\"\",\"url\":\"https://api.github.com/users/inishchith\",\"html_url\":\"https://github.com/inishchith\",\"followers_url\":\"https://api.github.com/users/inishchith/followers\",\"following_url\":\"https://api.github.com/users/inishchith/following{/other_user}\",\"gists_url\":\"https://api.github.com/users/inishchith/gists{/gist_id}\",\"starred_url\":\"https://api.github.com/users/inishchith/starred{/owner}{/repo}\",\"subscriptions_url\":\"https://api.github.com/users/inishchith/subscriptions\",\"organizations_url\":\"https://api.github.com/users/inishchith/orgs\",\"repos_url\":\"https://api.github.com/users/inishchith/repos\",\"events_url\":\"https://api.github.com/users/inishchith/events{/privacy}\",\"received_events_url\":\"https://api.github.com/users/inishchith/received_events\",\"type\":\"User\",\"site_admin\":false},{\"login\":\"Chaitya62\",\"id\":13485609,\"node_id\":\"MDQ6VXNlcjEzNDg1NjA5\",\"avatar_url\":\"https://avatars3.githubusercontent.com/u/13485609?v=4\",\"gravatar_id\":\"\",\"url\":\"https://api.github.com/users/Chaitya62\",\"html_url\":\"https://github.com/Chaitya62\",\"followers_url\":\"https://api.github.com/users/Chaitya62/followers\",\"following_url\":\"https://api.github.com/users/Chaitya62/following{/other_user}\",\"gists_url\":\"https://api.github.com/users/Chaitya62/gists{/gist_id}\",\"starred_url\":\"https://api.github.com/users/Chaitya62/starred{/owner}{/repo}\",\"subscriptions_url\":\"https://api.github.com/users/Chaitya62/subscriptions\",\"organizations_url\":\"https://api.github.com/users/Chaitya62/orgs\",\"repos_url\":\"https://api.github.com/users/Chaitya62/repos\",\"events_url\":\"https://api.github.com/users/Chaitya62/events{/privacy}\",\"received_events_url\":\"https://api.github.com/users/Chaitya62/received_events\",\"type\":\"User\",\"site_admin\":false},{\"login\":\"shivam1708\",\"id\":28871889,\"node_id\":\"MDQ6VXNlcjI4ODcxODg5\",\"avatar_url\":\"https://avatars2.githubusercontent.com/u/28871889?v=4\",\"gravatar_id\":\"\",\"url\":\"https://api.github.com/users/shivam1708\",\"html_url\":\"https://github.com/shivam1708\",\"followers_url\":\"https://api.github.com/users/shivam1708/followers\",\"following_url\":\"https://api.github.com/users/shivam1708/following{/other_user}\",\"gists_url\":\"https://api.github.com/users/shivam1708/gists{/gist_id}\",\"starred_url\":\"https://api.github.com/users/shivam1708/starred{/owner}{/repo}\",\"subscriptions_url\":\"https://api.github.com/users/shivam1708/subscriptions\",\"organizations_url\":\"https://api.github.com/users/shivam1708/orgs\",\"repos_url\":\"https://api.github.com/users/shivam1708/repos\",\"events_url\":\"https://api.github.com/users/shivam1708/events{/privacy}\",\"received_events_url\":\"https://api.github.com/users/shivam1708/received_events\",\"type\":\"User\",\"site_admin\":false},{\"login\":\"RusherRG\",\"id\":35848285,\"node_id\":\"MDQ6VXNlcjM1ODQ4Mjg1\",\"avatar_url\":\"https://avatars3.githubusercontent.com/u/35848285?v=4\",\"gravatar_id\":\"\",\"url\":\"https://api.github.com/users/RusherRG\",\"html_url\":\"https://github.com/RusherRG\",\"followers_url\":\"https://api.github.com/users/RusherRG/followers\",\"following_url\":\"https://api.github.com/users/RusherRG/following{/other_user}\",\"gists_url\":\"https://api.github.com/users/RusherRG/gists{/gist_id}\",\"starred_url\":\"https://api.github.com/users/RusherRG/starred{/owner}{/repo}\",\"subscriptions_url\":\"https://api.github.com/users/RusherRG/subscriptions\",\"organizations_url\":\"https://api.github.com/users/RusherRG/orgs\",\"repos_url\":\"https://api.github.com/users/RusherRG/repos\",\"events_url\":\"https://api.github.com/users/RusherRG/events{/privacy}\",\"received_events_url\":\"https://api.github.com/users/RusherRG/received_events\",\"type\":\"User\",\"site_admin\":false},{\"login\":\"2knal\",\"id\":32769793,\"node_id\":\"MDQ6VXNlcjMyNzY5Nzkz\",\"avatar_url\":\"https://avatars3.githubusercontent.com/u/32769793?v=4\",\"gravatar_id\":\"\",\"url\":\"https://api.github.com/users/2knal\",\"html_url\":\"https://github.com/2knal\",\"followers_url\":\"https://api.github.com/users/2knal/followers\",\"following_url\":\"https://api.github.com/users/2knal/following{/other_user}\",\"gists_url\":\"https://api.github.com/users/2knal/gists{/gist_id}\",\"starred_url\":\"https://api.github.com/users/2knal/starred{/owner}{/repo}\",\"subscriptions_url\":\"https://api.github.com/users/2knal/subscriptions\",\"organizations_url\":\"https://api.github.com/users/2knal/orgs\",\"repos_url\":\"https://api.github.com/users/2knal/repos\",\"events_url\":\"https://api.github.com/users/2knal/events{/privacy}\",\"received_events_url\":\"https://api.github.com/users/2knal/received_events\",\"type\":\"User\",\"site_admin\":false},{\"login\":\"Korusuke\",\"id\":15181757,\"node_id\":\"MDQ6VXNlcjE1MTgxNzU3\",\"avatar_url\":\"https://avatars0.githubusercontent.com/u/15181757?v=4\",\"gravatar_id\":\"\",\"url\":\"https://api.github.com/users/Korusuke\",\"html_url\":\"https://github.com/Korusuke\",\"followers_url\":\"https://api.github.com/users/Korusuke/followers\",\"following_url\":\"https://api.github.com/users/Korusuke/following{/other_user}\",\"gists_url\":\"https://api.github.com/users/Korusuke/gists{/gist_id}\",\"starred_url\":\"https://api.github.com/users/Korusuke/starred{/owner}{/repo}\",\"subscriptions_url\":\"https://api.github.com/users/Korusuke/subscriptions\",\"organizations_url\":\"https://api.github.com/users/Korusuke/orgs\",\"repos_url\":\"https://api.github.com/users/Korusuke/repos\",\"events_url\":\"https://api.github.com/users/Korusuke/events{/privacy}\",\"received_events_url\":\"https://api.github.com/users/Korusuke/received_events\",\"type\":\"User\",\"site_admin\":false},{\"login\":\"arghyadeep99\",\"id\":33197180,\"node_id\":\"MDQ6VXNlcjMzMTk3MTgw\",\"avatar_url\":\"https://avatars0.githubusercontent.com/u/33197180?v=4\",\"gravatar_id\":\"\",\"url\":\"https://api.github.com/users/arghyadeep99\",\"html_url\":\"https://github.com/arghyadeep99\",\"followers_url\":\"https://api.github.com/users/arghyadeep99/followers\",\"following_url\":\"https://api.github.com/users/arghyadeep99/following{/other_user}\",\"gists_url\":\"https://api.github.com/users/arghyadeep99/gists{/gist_id}\",\"starred_url\":\"https://api.github.com/users/arghyadeep99/starred{/owner}{/repo}\",\"subscriptions_url\":\"https://api.github.com/users/arghyadeep99/subscriptions\",\"organizations_url\":\"https://api.github.com/users/arghyadeep99/orgs\",\"repos_url\":\"https://api.github.com/users/arghyadeep99/repos\",\"events_url\":\"https://api.github.com/users/arghyadeep99/events{/privacy}\",\"received_events_url\":\"https://api.github.com/users/arghyadeep99/received_events\",\"type\":\"User\",\"site_admin\":false},{\"login\":\"KaustubhDamania\",\"id\":33577657,\"node_id\":\"MDQ6VXNlcjMzNTc3NjU3\",\"avatar_url\":\"https://avatars0.githubusercontent.com/u/33577657?v=4\",\"gravatar_id\":\"\",\"url\":\"https://api.github.com/users/KaustubhDamania\",\"html_url\":\"https://github.com/KaustubhDamania\",\"followers_url\":\"https://api.github.com/users/KaustubhDamania/followers\",\"following_url\":\"https://api.github.com/users/KaustubhDamania/following{/other_user}\",\"gists_url\":\"https://api.github.com/users/KaustubhDamania/gists{/gist_id}\",\"starred_url\":\"https://api.github.com/users/KaustubhDamania/starred{/owner}{/repo}\",\"subscriptions_url\":\"https://api.github.com/users/KaustubhDamania/subscriptions\",\"organizations_url\":\"https://api.github.com/users/KaustubhDamania/orgs\",\"repos_url\":\"https://api.github.com/users/KaustubhDamania/repos\",\"events_url\":\"https://api.github.com/users/KaustubhDamania/events{/privacy}\",\"received_events_url\":\"https://api.github.com/users/KaustubhDamania/received_events\",\"type\":\"User\",\"site_admin\":false},{\"login\":\"hetzz\",\"id\":39834439,\"node_id\":\"MDQ6VXNlcjM5ODM0NDM5\",\"avatar_url\":\"https://avatars2.githubusercontent.com/u/39834439?v=4\",\"gravatar_id\":\"\",\"url\":\"https://api.github.com/users/hetzz\",\"html_url\":\"https://github.com/hetzz\",\"followers_url\":\"https://api.github.com/users/hetzz/followers\",\"following_url\":\"https://api.github.com/users/hetzz/following{/other_user}\",\"gists_url\":\"https://api.github.com/users/hetzz/gists{/gist_id}\",\"starred_url\":\"https://api.github.com/users/hetzz/starred{/owner}{/repo}\",\"subscriptions_url\":\"https://api.github.com/users/hetzz/subscriptions\",\"organizations_url\":\"https://api.github.com/users/hetzz/orgs\",\"repos_url\":\"https://api.github.com/users/hetzz/repos\",\"events_url\":\"https://api.github.com/users/hetzz/events{/privacy}\",\"received_events_url\":\"https://api.github.com/users/hetzz/received_events\",\"type\":\"User\",\"site_admin\":false},{\"login\":\"mihir2510\",\"id\":44298638,\"node_id\":\"MDQ6VXNlcjQ0Mjk4NjM4\",\"avatar_url\":\"https://avatars3.githubusercontent.com/u/44298638?v=4\",\"gravatar_id\":\"\",\"url\":\"https://api.github.com/users/mihir2510\",\"html_url\":\"https://github.com/mihir2510\",\"followers_url\":\"https://api.github.com/users/mihir2510/followers\",\"following_url\":\"https://api.github.com/users/mihir2510/following{/other_user}\",\"gists_url\":\"https://api.github.com/users/mihir2510/gists{/gist_id}\",\"starred_url\":\"https://api.github.com/users/mihir2510/starred{/owner}{/repo}\",\"subscriptions_url\":\"https://api.github.com/users/mihir2510/subscriptions\",\"organizations_url\":\"https://api.github.com/users/mihir2510/orgs\",\"repos_url\":\"https://api.github.com/users/mihir2510/repos\",\"events_url\":\"https://api.github.com/users/mihir2510/events{/privacy}\",\"received_events_url\":\"https://api.github.com/users/mihir2510/received_events\",\"type\":\"User\",\"site_admin\":false},{\"login\":\"jaygala25\",\"id\":32769719,\"node_id\":\"MDQ6VXNlcjMyNzY5NzE5\",\"avatar_url\":\"https://avatars3.githubusercontent.com/u/32769719?v=4\",\"gravatar_id\":\"\",\"url\":\"https://api.github.com/users/jaygala25\",\"html_url\":\"https://github.com/jaygala25\",\"followers_url\":\"https://api.github.com/users/jaygala25/followers\",\"following_url\":\"https://api.github.com/users/jaygala25/following{/other_user}\",\"gists_url\":\"https://api.github.com/users/jaygala25/gists{/gist_id}\",\"starred_url\":\"https://api.github.com/users/jaygala25/starred{/owner}{/repo}\",\"subscriptions_url\":\"https://api.github.com/users/jaygala25/subscriptions\",\"organizations_url\":\"https://api.github.com/users/jaygala25/orgs\",\"repos_url\":\"https://api.github.com/users/jaygala25/repos\",\"events_url\":\"https://api.github.com/users/jaygala25/events{/privacy}\",\"received_events_url\":\"https://api.github.com/users/jaygala25/received_events\",\"type\":\"User\",\"site_admin\":false},{\"login\":\"humboo\",\"id\":24497886,\"node_id\":\"MDQ6VXNlcjI0NDk3ODg2\",\"avatar_url\":\"https://avatars3.githubusercontent.com/u/24497886?v=4\",\"gravatar_id\":\"\",\"url\":\"https://api.github.com/users/humboo\",\"html_url\":\"https://github.com/humboo\",\"followers_url\":\"https://api.github.com/users/humboo/followers\",\"following_url\":\"https://api.github.com/users/humboo/following{/other_user}\",\"gists_url\":\"https://api.github.com/users/humboo/gists{/gist_id}\",\"starred_url\":\"https://api.github.com/users/humboo/starred{/owner}{/repo}\",\"subscriptions_url\":\"https://api.github.com/users/humboo/subscriptions\",\"organizations_url\":\"https://api.github.com/users/humboo/orgs\",\"repos_url\":\"https://api.github.com/users/humboo/repos\",\"events_url\":\"https://api.github.com/users/humboo/events{/privacy}\",\"received_events_url\":\"https://api.github.com/users/humboo/received_events\",\"type\":\"User\",\"site_admin\":false},{\"login\":\"aviiiij\",\"id\":43349094,\"node_id\":\"MDQ6VXNlcjQzMzQ5MDk0\",\"avatar_url\":\"https://avatars2.githubusercontent.com/u/43349094?v=4\",\"gravatar_id\":\"\",\"url\":\"https://api.github.com/users/aviiiij\",\"html_url\":\"https://github.com/aviiiij\",\"followers_url\":\"https://api.github.com/users/aviiiij/followers\",\"following_url\":\"https://api.github.com/users/aviiiij/following{/other_user}\",\"gists_url\":\"https://api.github.com/users/aviiiij/gists{/gist_id}\",\"starred_url\":\"https://api.github.com/users/aviiiij/starred{/owner}{/repo}\",\"subscriptions_url\":\"https://api.github.com/users/aviiiij/subscriptions\",\"organizations_url\":\"https://api.github.com/users/aviiiij/orgs\",\"repos_url\":\"https://api.github.com/users/aviiiij/repos\",\"events_url\":\"https://api.github.com/users/aviiiij/events{/privacy}\",\"received_events_url\":\"https://api.github.com/users/aviiiij/received_events\",\"type\":\"User\",\"site_admin\":false},{\"login\":\"sangramdesai123\",\"id\":29910814,\"node_id\":\"MDQ6VXNlcjI5OTEwODE0\",\"avatar_url\":\"https://avatars1.githubusercontent.com/u/29910814?v=4\",\"gravatar_id\":\"\",\"url\":\"https://api.github.com/users/sangramdesai123\",\"html_url\":\"https://github.com/sangramdesai123\",\"followers_url\":\"https://api.github.com/users/sangramdesai123/followers\",\"following_url\":\"https://api.github.com/users/sangramdesai123/following{/other_user}\",\"gists_url\":\"https://api.github.com/users/sangramdesai123/gists{/gist_id}\",\"starred_url\":\"https://api.github.com/users/sangramdesai123/starred{/owner}{/repo}\",\"subscriptions_url\":\"https://api.github.com/users/sangramdesai123/subscriptions\",\"organizations_url\":\"https://api.github.com/users/sangramdesai123/orgs\",\"repos_url\":\"https://api.github.com/users/sangramdesai123/repos\",\"events_url\":\"https://api.github.com/users/sangramdesai123/events{/privacy}\",\"received_events_url\":\"https://api.github.com/users/sangramdesai123/received_events\",\"type\":\"User\",\"site_admin\":false},{\"login\":\"shivaneej\",\"id\":37874782,\"node_id\":\"MDQ6VXNlcjM3ODc0Nzgy\",\"avatar_url\":\"https://avatars3.githubusercontent.com/u/37874782?v=4\",\"gravatar_id\":\"\",\"url\":\"https://api.github.com/users/shivaneej\",\"html_url\":\"https://github.com/shivaneej\",\"followers_url\":\"https://api.github.com/users/shivaneej/followers\",\"following_url\":\"https://api.github.com/users/shivaneej/following{/other_user}\",\"gists_url\":\"https://api.github.com/users/shivaneej/gists{/gist_id}\",\"starred_url\":\"https://api.github.com/users/shivaneej/starred{/owner}{/repo}\",\"subscriptions_url\":\"https://api.github.com/users/shivaneej/subscriptions\",\"organizations_url\":\"https://api.github.com/users/shivaneej/orgs\",\"repos_url\":\"https://api.github.com/users/shivaneej/repos\",\"events_url\":\"https://api.github.com/users/shivaneej/events{/privacy}\",\"received_events_url\":\"https://api.github.com/users/shivaneej/received_events\",\"type\":\"User\",\"site_admin\":false},{\"login\":\"diggy-19\",\"id\":25223655,\"node_id\":\"MDQ6VXNlcjI1MjIzNjU1\",\"avatar_url\":\"https://avatars0.githubusercontent.com/u/25223655?v=4\",\"gravatar_id\":\"\",\"url\":\"https://api.github.com/users/diggy-19\",\"html_url\":\"https://github.com/diggy-19\",\"followers_url\":\"https://api.github.com/users/diggy-19/followers\",\"following_url\":\"https://api.github.com/users/diggy-19/following{/other_user}\",\"gists_url\":\"https://api.github.com/users/diggy-19/gists{/gist_id}\",\"starred_url\":\"https://api.github.com/users/diggy-19/starred{/owner}{/repo}\",\"subscriptions_url\":\"https://api.github.com/users/diggy-19/subscriptions\",\"organizations_url\":\"https://api.github.com/users/diggy-19/orgs\",\"repos_url\":\"https://api.github.com/users/diggy-19/repos\",\"events_url\":\"https://api.github.com/users/diggy-19/events{/privacy}\",\"received_events_url\":\"https://api.github.com/users/diggy-19/received_events\",\"type\":\"User\",\"site_admin\":false}]'"
      ]
     },
     "execution_count": 5,
     "metadata": {},
     "output_type": "execute_result"
    }
   ],
   "source": []
  },
  {
   "cell_type": "code",
   "execution_count": 11,
   "metadata": {},
   "outputs": [
    {
     "data": {
      "text/plain": [
       "{'2knal',\n",
       " 'Chaitya62',\n",
       " 'Kadam-Tushar',\n",
       " 'KaustubhDamania',\n",
       " 'Korusuke',\n",
       " 'RusherRG',\n",
       " 'aditya1999',\n",
       " 'arghyadeep99',\n",
       " 'aviiiij',\n",
       " 'diggy-19',\n",
       " 'hetzz',\n",
       " 'humboo',\n",
       " 'inishchith',\n",
       " 'jaygala25',\n",
       " 'mihir2510',\n",
       " 'nilshah98',\n",
       " 'nurdtechie98',\n",
       " 'sangramdesai123',\n",
       " 'shivam1708',\n",
       " 'shivaneej'}"
      ]
     },
     "execution_count": 11,
     "metadata": {},
     "output_type": "execute_result"
    }
   ],
   "source": [
    "visited = set()\n",
    "s='akshay-99'\n",
    "folr = map(lambda x:x['login'], requests.get('https://api.github.com/users/'+s+'/followers', auth=('akshay-99', '295b0e1bdd1e8b05619eee8a7a50d3fa7912f99c')).json())\n",
    "folg = map(lambda x:x['login'], requests.get('https://api.github.com/users/'+s+'/following', auth=('akshay-99', '295b0e1bdd1e8b05619eee8a7a50d3fa7912f99c')).json())\n",
    "set(list(folr)).union(set(list(folg)))\n"
   ]
  },
  {
   "cell_type": "code",
   "execution_count": 31,
   "metadata": {},
   "outputs": [],
   "source": [
    "visited = set()"
   ]
  },
  {
   "cell_type": "code",
   "execution_count": 32,
   "metadata": {},
   "outputs": [],
   "source": [
    "def BFS( s): \n",
    "  \n",
    "\n",
    "        queue = []\n",
    "        s = (s, 0)\n",
    "        queue.append(s) \n",
    "        visited.add(s[0])\n",
    "  \n",
    "        while queue: \n",
    "  \n",
    "            \n",
    "            s = queue.pop(0) \n",
    "            print (s[0],'\\t\\t',s[1] ) \n",
    "            folr = map(lambda x:x['login'], requests.get('https://api.github.com/users/'+s[0]+'/followers', auth=('akshay-99', '295b0e1bdd1e8b05619eee8a7a50d3fa7912f99c')).json())\n",
    "            # folg = map(lambda x:x['login'], requests.get('https://api.github.com/users/'+s+'/following', auth=('akshay-99', '295b0e1bdd1e8b05619eee8a7a50d3fa7912f99c')).json())\n",
    "            # fli = set(list(folr)).union(set(list(folg)))\n",
    "            \n",
    "            \n",
    "            fli = list(folr)\n",
    "            for i in fli: \n",
    "                if not i in visited: \n",
    "                    queue.append((i, s[1]+1)) \n",
    "                    visited.add(i)"
   ]
  },
  {
   "cell_type": "code",
   "execution_count": 33,
   "metadata": {},
   "outputs": [
    {
     "name": "stdout",
     "output_type": "stream",
     "text": [
      "akshay-99 \t\t 0\n",
      "aditya1999 \t\t 1\n",
      "nilshah98 \t\t 1\n",
      "nurdtechie98 \t\t 1\n",
      "Kadam-Tushar \t\t 1\n",
      "inishchith \t\t 1\n",
      "Chaitya62 \t\t 1\n",
      "shivam1708 \t\t 1\n",
      "RusherRG \t\t 1\n",
      "2knal \t\t 1\n",
      "Korusuke \t\t 1\n",
      "arghyadeep99 \t\t 1\n",
      "KaustubhDamania \t\t 1\n",
      "hetzz \t\t 1\n",
      "mihir2510 \t\t 1\n",
      "jaygala25 \t\t 1\n",
      "humboo \t\t 1\n",
      "aviiiij \t\t 1\n",
      "sangramdesai123 \t\t 1\n",
      "shivaneej \t\t 1\n",
      "diggy-19 \t\t 1\n",
      "giryagr8 \t\t 2\n",
      "uk96 \t\t 2\n",
      "averma12 \t\t 2\n",
      "Showndarya \t\t 2\n",
      "nik9hil \t\t 2\n",
      "9sushantg \t\t 2\n",
      "darshanc99 \t\t 2\n",
      "vedant-shroff \t\t 2\n",
      "zenilharia26 \t\t 2\n",
      "priyamshah112 \t\t 2\n",
      "rahulmistry33 \t\t 2\n",
      "anshrathod \t\t 2\n",
      "Anay121 \t\t 2\n",
      "deepdama10 \t\t 2\n",
      "vedipen \t\t 2\n",
      "nottoobright \t\t 2\n",
      "gyr0tron \t\t 2\n",
      "cenaion \t\t 2\n",
      "Ye11ow-Flash \t\t 2\n",
      "vazzup \t\t 2\n",
      "abhishek2197 \t\t 2\n",
      "JayKanakiya \t\t 2\n",
      "kunjmehta \t\t 2\n",
      "ashna111 \t\t 2\n",
      "shrutidhariya \t\t 2\n",
      "devanshslnk \t\t 2\n",
      "YashAndonia \t\t 2\n",
      "harshpalan \t\t 2\n",
      "NightWing1998 \t\t 2\n",
      "SauravKanchan \t\t 2\n",
      "bhavikk \t\t 2\n",
      "ssvas1997 \t\t 2\n",
      "baaap \t\t 2\n",
      "Arceus10230 \t\t 2\n",
      "akshay2102 \t\t 2\n",
      "akshitapatil \t\t 2\n",
      "Chinmayrane16 \t\t 2\n",
      "dharmick \t\t 2\n",
      "chheda-r \t\t 2\n",
      "jigarWala \t\t 2\n",
      "92ganesh \t\t 2\n",
      "hardikrathod712 \t\t 2\n",
      "patelnishit835 \t\t 2\n",
      "amitmahajan29 \t\t 2\n",
      "fcukfcp \t\t 2\n",
      "AzureByte \t\t 2\n",
      "aayushkothari11 \t\t 2\n",
      "vidursatija \t\t 2\n",
      "ganesh-git2014 \t\t 2\n",
      "gofornaman \t\t 2\n",
      "abdullah768 \t\t 2\n",
      "pronoym99 \t\t 2\n",
      "itanish \t\t 2\n",
      "harshpatel23 \t\t 2\n",
      "mehdiminaee \t\t 2\n",
      "joshiadvait8 \t\t 2\n",
      "skolarii \t\t 2\n",
      "avinashbhat \t\t 2\n",
      "aswanipranjal \t\t 2\n",
      "Ankit-22 \t\t 2\n",
      "anto-christo \t\t 2\n",
      "vlraik \t\t 2\n",
      "smitthakkar \t\t 2\n",
      "darshselarka1497 \t\t 2\n",
      "raoniz \t\t 2\n",
      "Vir-al \t\t 2\n",
      "VinitraMk \t\t 2\n",
      "mihir-chouhan \t\t 2\n",
      "parthmehta \t\t 2\n",
      "TheJaeLal \t\t 2\n",
      "chamow97 \t\t 2\n",
      "nisarg-12 \t\t 2\n",
      "pandeod \t\t 2\n",
      "cipherhacker \t\t 2\n"
     ]
    },
    {
     "ename": "KeyboardInterrupt",
     "evalue": "",
     "output_type": "error",
     "traceback": [
      "\u001b[0;31m---------------------------------------------------------------------------\u001b[0m",
      "\u001b[0;31mKeyboardInterrupt\u001b[0m                         Traceback (most recent call last)",
      "\u001b[0;32m<ipython-input-33-dbf74bd2e59e>\u001b[0m in \u001b[0;36m<module>\u001b[0;34m\u001b[0m\n\u001b[0;32m----> 1\u001b[0;31m \u001b[0mBFS\u001b[0m\u001b[0;34m(\u001b[0m\u001b[0;34m'akshay-99'\u001b[0m\u001b[0;34m)\u001b[0m\u001b[0;34m\u001b[0m\u001b[0;34m\u001b[0m\u001b[0m\n\u001b[0m",
      "\u001b[0;32m<ipython-input-32-939a5aff172a>\u001b[0m in \u001b[0;36mBFS\u001b[0;34m(s)\u001b[0m\n\u001b[1;32m     12\u001b[0m             \u001b[0ms\u001b[0m \u001b[0;34m=\u001b[0m \u001b[0mqueue\u001b[0m\u001b[0;34m.\u001b[0m\u001b[0mpop\u001b[0m\u001b[0;34m(\u001b[0m\u001b[0;36m0\u001b[0m\u001b[0;34m)\u001b[0m\u001b[0;34m\u001b[0m\u001b[0;34m\u001b[0m\u001b[0m\n\u001b[1;32m     13\u001b[0m             \u001b[0mprint\u001b[0m \u001b[0;34m(\u001b[0m\u001b[0ms\u001b[0m\u001b[0;34m[\u001b[0m\u001b[0;36m0\u001b[0m\u001b[0;34m]\u001b[0m\u001b[0;34m,\u001b[0m\u001b[0;34m'\\t\\t'\u001b[0m\u001b[0;34m,\u001b[0m\u001b[0ms\u001b[0m\u001b[0;34m[\u001b[0m\u001b[0;36m1\u001b[0m\u001b[0;34m]\u001b[0m \u001b[0;34m)\u001b[0m\u001b[0;34m\u001b[0m\u001b[0;34m\u001b[0m\u001b[0m\n\u001b[0;32m---> 14\u001b[0;31m             \u001b[0mfolr\u001b[0m \u001b[0;34m=\u001b[0m \u001b[0mmap\u001b[0m\u001b[0;34m(\u001b[0m\u001b[0;32mlambda\u001b[0m \u001b[0mx\u001b[0m\u001b[0;34m:\u001b[0m\u001b[0mx\u001b[0m\u001b[0;34m[\u001b[0m\u001b[0;34m'login'\u001b[0m\u001b[0;34m]\u001b[0m\u001b[0;34m,\u001b[0m \u001b[0mrequests\u001b[0m\u001b[0;34m.\u001b[0m\u001b[0mget\u001b[0m\u001b[0;34m(\u001b[0m\u001b[0;34m'https://api.github.com/users/'\u001b[0m\u001b[0;34m+\u001b[0m\u001b[0ms\u001b[0m\u001b[0;34m[\u001b[0m\u001b[0;36m0\u001b[0m\u001b[0;34m]\u001b[0m\u001b[0;34m+\u001b[0m\u001b[0;34m'/followers'\u001b[0m\u001b[0;34m,\u001b[0m \u001b[0mauth\u001b[0m\u001b[0;34m=\u001b[0m\u001b[0;34m(\u001b[0m\u001b[0;34m'akshay-99'\u001b[0m\u001b[0;34m,\u001b[0m \u001b[0;34m'295b0e1bdd1e8b05619eee8a7a50d3fa7912f99c'\u001b[0m\u001b[0;34m)\u001b[0m\u001b[0;34m)\u001b[0m\u001b[0;34m.\u001b[0m\u001b[0mjson\u001b[0m\u001b[0;34m(\u001b[0m\u001b[0;34m)\u001b[0m\u001b[0;34m)\u001b[0m\u001b[0;34m\u001b[0m\u001b[0;34m\u001b[0m\u001b[0m\n\u001b[0m\u001b[1;32m     15\u001b[0m             \u001b[0;31m# folg = map(lambda x:x['login'], requests.get('https://api.github.com/users/'+s+'/following', auth=('akshay-99', '295b0e1bdd1e8b05619eee8a7a50d3fa7912f99c')).json())\u001b[0m\u001b[0;34m\u001b[0m\u001b[0;34m\u001b[0m\u001b[0;34m\u001b[0m\u001b[0m\n\u001b[1;32m     16\u001b[0m             \u001b[0;31m# fli = set(list(folr)).union(set(list(folg)))\u001b[0m\u001b[0;34m\u001b[0m\u001b[0;34m\u001b[0m\u001b[0;34m\u001b[0m\u001b[0m\n",
      "\u001b[0;32m~/.local/lib/python3.6/site-packages/requests/api.py\u001b[0m in \u001b[0;36mget\u001b[0;34m(url, params, **kwargs)\u001b[0m\n\u001b[1;32m     73\u001b[0m \u001b[0;34m\u001b[0m\u001b[0m\n\u001b[1;32m     74\u001b[0m     \u001b[0mkwargs\u001b[0m\u001b[0;34m.\u001b[0m\u001b[0msetdefault\u001b[0m\u001b[0;34m(\u001b[0m\u001b[0;34m'allow_redirects'\u001b[0m\u001b[0;34m,\u001b[0m \u001b[0;32mTrue\u001b[0m\u001b[0;34m)\u001b[0m\u001b[0;34m\u001b[0m\u001b[0;34m\u001b[0m\u001b[0m\n\u001b[0;32m---> 75\u001b[0;31m     \u001b[0;32mreturn\u001b[0m \u001b[0mrequest\u001b[0m\u001b[0;34m(\u001b[0m\u001b[0;34m'get'\u001b[0m\u001b[0;34m,\u001b[0m \u001b[0murl\u001b[0m\u001b[0;34m,\u001b[0m \u001b[0mparams\u001b[0m\u001b[0;34m=\u001b[0m\u001b[0mparams\u001b[0m\u001b[0;34m,\u001b[0m \u001b[0;34m**\u001b[0m\u001b[0mkwargs\u001b[0m\u001b[0;34m)\u001b[0m\u001b[0;34m\u001b[0m\u001b[0;34m\u001b[0m\u001b[0m\n\u001b[0m\u001b[1;32m     76\u001b[0m \u001b[0;34m\u001b[0m\u001b[0m\n\u001b[1;32m     77\u001b[0m \u001b[0;34m\u001b[0m\u001b[0m\n",
      "\u001b[0;32m~/.local/lib/python3.6/site-packages/requests/api.py\u001b[0m in \u001b[0;36mrequest\u001b[0;34m(method, url, **kwargs)\u001b[0m\n\u001b[1;32m     58\u001b[0m     \u001b[0;31m# cases, and look like a memory leak in others.\u001b[0m\u001b[0;34m\u001b[0m\u001b[0;34m\u001b[0m\u001b[0;34m\u001b[0m\u001b[0m\n\u001b[1;32m     59\u001b[0m     \u001b[0;32mwith\u001b[0m \u001b[0msessions\u001b[0m\u001b[0;34m.\u001b[0m\u001b[0mSession\u001b[0m\u001b[0;34m(\u001b[0m\u001b[0;34m)\u001b[0m \u001b[0;32mas\u001b[0m \u001b[0msession\u001b[0m\u001b[0;34m:\u001b[0m\u001b[0;34m\u001b[0m\u001b[0;34m\u001b[0m\u001b[0m\n\u001b[0;32m---> 60\u001b[0;31m         \u001b[0;32mreturn\u001b[0m \u001b[0msession\u001b[0m\u001b[0;34m.\u001b[0m\u001b[0mrequest\u001b[0m\u001b[0;34m(\u001b[0m\u001b[0mmethod\u001b[0m\u001b[0;34m=\u001b[0m\u001b[0mmethod\u001b[0m\u001b[0;34m,\u001b[0m \u001b[0murl\u001b[0m\u001b[0;34m=\u001b[0m\u001b[0murl\u001b[0m\u001b[0;34m,\u001b[0m \u001b[0;34m**\u001b[0m\u001b[0mkwargs\u001b[0m\u001b[0;34m)\u001b[0m\u001b[0;34m\u001b[0m\u001b[0;34m\u001b[0m\u001b[0m\n\u001b[0m\u001b[1;32m     61\u001b[0m \u001b[0;34m\u001b[0m\u001b[0m\n\u001b[1;32m     62\u001b[0m \u001b[0;34m\u001b[0m\u001b[0m\n",
      "\u001b[0;32m~/.local/lib/python3.6/site-packages/requests/sessions.py\u001b[0m in \u001b[0;36mrequest\u001b[0;34m(self, method, url, params, data, headers, cookies, files, auth, timeout, allow_redirects, proxies, hooks, stream, verify, cert, json)\u001b[0m\n\u001b[1;32m    531\u001b[0m         }\n\u001b[1;32m    532\u001b[0m         \u001b[0msend_kwargs\u001b[0m\u001b[0;34m.\u001b[0m\u001b[0mupdate\u001b[0m\u001b[0;34m(\u001b[0m\u001b[0msettings\u001b[0m\u001b[0;34m)\u001b[0m\u001b[0;34m\u001b[0m\u001b[0;34m\u001b[0m\u001b[0m\n\u001b[0;32m--> 533\u001b[0;31m         \u001b[0mresp\u001b[0m \u001b[0;34m=\u001b[0m \u001b[0mself\u001b[0m\u001b[0;34m.\u001b[0m\u001b[0msend\u001b[0m\u001b[0;34m(\u001b[0m\u001b[0mprep\u001b[0m\u001b[0;34m,\u001b[0m \u001b[0;34m**\u001b[0m\u001b[0msend_kwargs\u001b[0m\u001b[0;34m)\u001b[0m\u001b[0;34m\u001b[0m\u001b[0;34m\u001b[0m\u001b[0m\n\u001b[0m\u001b[1;32m    534\u001b[0m \u001b[0;34m\u001b[0m\u001b[0m\n\u001b[1;32m    535\u001b[0m         \u001b[0;32mreturn\u001b[0m \u001b[0mresp\u001b[0m\u001b[0;34m\u001b[0m\u001b[0;34m\u001b[0m\u001b[0m\n",
      "\u001b[0;32m~/.local/lib/python3.6/site-packages/requests/sessions.py\u001b[0m in \u001b[0;36msend\u001b[0;34m(self, request, **kwargs)\u001b[0m\n\u001b[1;32m    644\u001b[0m \u001b[0;34m\u001b[0m\u001b[0m\n\u001b[1;32m    645\u001b[0m         \u001b[0;31m# Send the request\u001b[0m\u001b[0;34m\u001b[0m\u001b[0;34m\u001b[0m\u001b[0;34m\u001b[0m\u001b[0m\n\u001b[0;32m--> 646\u001b[0;31m         \u001b[0mr\u001b[0m \u001b[0;34m=\u001b[0m \u001b[0madapter\u001b[0m\u001b[0;34m.\u001b[0m\u001b[0msend\u001b[0m\u001b[0;34m(\u001b[0m\u001b[0mrequest\u001b[0m\u001b[0;34m,\u001b[0m \u001b[0;34m**\u001b[0m\u001b[0mkwargs\u001b[0m\u001b[0;34m)\u001b[0m\u001b[0;34m\u001b[0m\u001b[0;34m\u001b[0m\u001b[0m\n\u001b[0m\u001b[1;32m    647\u001b[0m \u001b[0;34m\u001b[0m\u001b[0m\n\u001b[1;32m    648\u001b[0m         \u001b[0;31m# Total elapsed time of the request (approximately)\u001b[0m\u001b[0;34m\u001b[0m\u001b[0;34m\u001b[0m\u001b[0;34m\u001b[0m\u001b[0m\n",
      "\u001b[0;32m~/.local/lib/python3.6/site-packages/requests/adapters.py\u001b[0m in \u001b[0;36msend\u001b[0;34m(self, request, stream, timeout, verify, cert, proxies)\u001b[0m\n\u001b[1;32m    447\u001b[0m                     \u001b[0mdecode_content\u001b[0m\u001b[0;34m=\u001b[0m\u001b[0;32mFalse\u001b[0m\u001b[0;34m,\u001b[0m\u001b[0;34m\u001b[0m\u001b[0;34m\u001b[0m\u001b[0m\n\u001b[1;32m    448\u001b[0m                     \u001b[0mretries\u001b[0m\u001b[0;34m=\u001b[0m\u001b[0mself\u001b[0m\u001b[0;34m.\u001b[0m\u001b[0mmax_retries\u001b[0m\u001b[0;34m,\u001b[0m\u001b[0;34m\u001b[0m\u001b[0;34m\u001b[0m\u001b[0m\n\u001b[0;32m--> 449\u001b[0;31m                     \u001b[0mtimeout\u001b[0m\u001b[0;34m=\u001b[0m\u001b[0mtimeout\u001b[0m\u001b[0;34m\u001b[0m\u001b[0;34m\u001b[0m\u001b[0m\n\u001b[0m\u001b[1;32m    450\u001b[0m                 )\n\u001b[1;32m    451\u001b[0m \u001b[0;34m\u001b[0m\u001b[0m\n",
      "\u001b[0;32m~/.local/lib/python3.6/site-packages/urllib3/connectionpool.py\u001b[0m in \u001b[0;36murlopen\u001b[0;34m(self, method, url, body, headers, retries, redirect, assert_same_host, timeout, pool_timeout, release_conn, chunked, body_pos, **response_kw)\u001b[0m\n\u001b[1;32m    598\u001b[0m                                                   \u001b[0mtimeout\u001b[0m\u001b[0;34m=\u001b[0m\u001b[0mtimeout_obj\u001b[0m\u001b[0;34m,\u001b[0m\u001b[0;34m\u001b[0m\u001b[0;34m\u001b[0m\u001b[0m\n\u001b[1;32m    599\u001b[0m                                                   \u001b[0mbody\u001b[0m\u001b[0;34m=\u001b[0m\u001b[0mbody\u001b[0m\u001b[0;34m,\u001b[0m \u001b[0mheaders\u001b[0m\u001b[0;34m=\u001b[0m\u001b[0mheaders\u001b[0m\u001b[0;34m,\u001b[0m\u001b[0;34m\u001b[0m\u001b[0;34m\u001b[0m\u001b[0m\n\u001b[0;32m--> 600\u001b[0;31m                                                   chunked=chunked)\n\u001b[0m\u001b[1;32m    601\u001b[0m \u001b[0;34m\u001b[0m\u001b[0m\n\u001b[1;32m    602\u001b[0m             \u001b[0;31m# If we're going to release the connection in ``finally:``, then\u001b[0m\u001b[0;34m\u001b[0m\u001b[0;34m\u001b[0m\u001b[0;34m\u001b[0m\u001b[0m\n",
      "\u001b[0;32m~/.local/lib/python3.6/site-packages/urllib3/connectionpool.py\u001b[0m in \u001b[0;36m_make_request\u001b[0;34m(self, conn, method, url, timeout, chunked, **httplib_request_kw)\u001b[0m\n\u001b[1;32m    341\u001b[0m         \u001b[0;31m# Trigger any extra validation we need to do.\u001b[0m\u001b[0;34m\u001b[0m\u001b[0;34m\u001b[0m\u001b[0;34m\u001b[0m\u001b[0m\n\u001b[1;32m    342\u001b[0m         \u001b[0;32mtry\u001b[0m\u001b[0;34m:\u001b[0m\u001b[0;34m\u001b[0m\u001b[0;34m\u001b[0m\u001b[0m\n\u001b[0;32m--> 343\u001b[0;31m             \u001b[0mself\u001b[0m\u001b[0;34m.\u001b[0m\u001b[0m_validate_conn\u001b[0m\u001b[0;34m(\u001b[0m\u001b[0mconn\u001b[0m\u001b[0;34m)\u001b[0m\u001b[0;34m\u001b[0m\u001b[0;34m\u001b[0m\u001b[0m\n\u001b[0m\u001b[1;32m    344\u001b[0m         \u001b[0;32mexcept\u001b[0m \u001b[0;34m(\u001b[0m\u001b[0mSocketTimeout\u001b[0m\u001b[0;34m,\u001b[0m \u001b[0mBaseSSLError\u001b[0m\u001b[0;34m)\u001b[0m \u001b[0;32mas\u001b[0m \u001b[0me\u001b[0m\u001b[0;34m:\u001b[0m\u001b[0;34m\u001b[0m\u001b[0;34m\u001b[0m\u001b[0m\n\u001b[1;32m    345\u001b[0m             \u001b[0;31m# Py2 raises this as a BaseSSLError, Py3 raises it as socket timeout.\u001b[0m\u001b[0;34m\u001b[0m\u001b[0;34m\u001b[0m\u001b[0;34m\u001b[0m\u001b[0m\n",
      "\u001b[0;32m~/.local/lib/python3.6/site-packages/urllib3/connectionpool.py\u001b[0m in \u001b[0;36m_validate_conn\u001b[0;34m(self, conn)\u001b[0m\n\u001b[1;32m    837\u001b[0m         \u001b[0;31m# Force connect early to allow us to validate the connection.\u001b[0m\u001b[0;34m\u001b[0m\u001b[0;34m\u001b[0m\u001b[0;34m\u001b[0m\u001b[0m\n\u001b[1;32m    838\u001b[0m         \u001b[0;32mif\u001b[0m \u001b[0;32mnot\u001b[0m \u001b[0mgetattr\u001b[0m\u001b[0;34m(\u001b[0m\u001b[0mconn\u001b[0m\u001b[0;34m,\u001b[0m \u001b[0;34m'sock'\u001b[0m\u001b[0;34m,\u001b[0m \u001b[0;32mNone\u001b[0m\u001b[0;34m)\u001b[0m\u001b[0;34m:\u001b[0m  \u001b[0;31m# AppEngine might not have  `.sock`\u001b[0m\u001b[0;34m\u001b[0m\u001b[0;34m\u001b[0m\u001b[0m\n\u001b[0;32m--> 839\u001b[0;31m             \u001b[0mconn\u001b[0m\u001b[0;34m.\u001b[0m\u001b[0mconnect\u001b[0m\u001b[0;34m(\u001b[0m\u001b[0;34m)\u001b[0m\u001b[0;34m\u001b[0m\u001b[0;34m\u001b[0m\u001b[0m\n\u001b[0m\u001b[1;32m    840\u001b[0m \u001b[0;34m\u001b[0m\u001b[0m\n\u001b[1;32m    841\u001b[0m         \u001b[0;32mif\u001b[0m \u001b[0;32mnot\u001b[0m \u001b[0mconn\u001b[0m\u001b[0;34m.\u001b[0m\u001b[0mis_verified\u001b[0m\u001b[0;34m:\u001b[0m\u001b[0;34m\u001b[0m\u001b[0;34m\u001b[0m\u001b[0m\n",
      "\u001b[0;32m~/.local/lib/python3.6/site-packages/urllib3/connection.py\u001b[0m in \u001b[0;36mconnect\u001b[0;34m(self)\u001b[0m\n\u001b[1;32m    342\u001b[0m             \u001b[0mca_cert_dir\u001b[0m\u001b[0;34m=\u001b[0m\u001b[0mself\u001b[0m\u001b[0;34m.\u001b[0m\u001b[0mca_cert_dir\u001b[0m\u001b[0;34m,\u001b[0m\u001b[0;34m\u001b[0m\u001b[0;34m\u001b[0m\u001b[0m\n\u001b[1;32m    343\u001b[0m             \u001b[0mserver_hostname\u001b[0m\u001b[0;34m=\u001b[0m\u001b[0mserver_hostname\u001b[0m\u001b[0;34m,\u001b[0m\u001b[0;34m\u001b[0m\u001b[0;34m\u001b[0m\u001b[0m\n\u001b[0;32m--> 344\u001b[0;31m             ssl_context=context)\n\u001b[0m\u001b[1;32m    345\u001b[0m \u001b[0;34m\u001b[0m\u001b[0m\n\u001b[1;32m    346\u001b[0m         \u001b[0;32mif\u001b[0m \u001b[0mself\u001b[0m\u001b[0;34m.\u001b[0m\u001b[0massert_fingerprint\u001b[0m\u001b[0;34m:\u001b[0m\u001b[0;34m\u001b[0m\u001b[0;34m\u001b[0m\u001b[0m\n",
      "\u001b[0;32m~/.local/lib/python3.6/site-packages/urllib3/util/ssl_.py\u001b[0m in \u001b[0;36mssl_wrap_socket\u001b[0;34m(sock, keyfile, certfile, cert_reqs, ca_certs, server_hostname, ssl_version, ciphers, ssl_context, ca_cert_dir)\u001b[0m\n\u001b[1;32m    342\u001b[0m             or IS_SECURETRANSPORT):\n\u001b[1;32m    343\u001b[0m         \u001b[0;32mif\u001b[0m \u001b[0mHAS_SNI\u001b[0m \u001b[0;32mand\u001b[0m \u001b[0mserver_hostname\u001b[0m \u001b[0;32mis\u001b[0m \u001b[0;32mnot\u001b[0m \u001b[0;32mNone\u001b[0m\u001b[0;34m:\u001b[0m\u001b[0;34m\u001b[0m\u001b[0;34m\u001b[0m\u001b[0m\n\u001b[0;32m--> 344\u001b[0;31m             \u001b[0;32mreturn\u001b[0m \u001b[0mcontext\u001b[0m\u001b[0;34m.\u001b[0m\u001b[0mwrap_socket\u001b[0m\u001b[0;34m(\u001b[0m\u001b[0msock\u001b[0m\u001b[0;34m,\u001b[0m \u001b[0mserver_hostname\u001b[0m\u001b[0;34m=\u001b[0m\u001b[0mserver_hostname\u001b[0m\u001b[0;34m)\u001b[0m\u001b[0;34m\u001b[0m\u001b[0;34m\u001b[0m\u001b[0m\n\u001b[0m\u001b[1;32m    345\u001b[0m \u001b[0;34m\u001b[0m\u001b[0m\n\u001b[1;32m    346\u001b[0m         warnings.warn(\n",
      "\u001b[0;32m~/.local/lib/python3.6/site-packages/urllib3/contrib/pyopenssl.py\u001b[0m in \u001b[0;36mwrap_socket\u001b[0;34m(self, sock, server_side, do_handshake_on_connect, suppress_ragged_eofs, server_hostname)\u001b[0m\n\u001b[1;32m    451\u001b[0m         \u001b[0;32mwhile\u001b[0m \u001b[0;32mTrue\u001b[0m\u001b[0;34m:\u001b[0m\u001b[0;34m\u001b[0m\u001b[0;34m\u001b[0m\u001b[0m\n\u001b[1;32m    452\u001b[0m             \u001b[0;32mtry\u001b[0m\u001b[0;34m:\u001b[0m\u001b[0;34m\u001b[0m\u001b[0;34m\u001b[0m\u001b[0m\n\u001b[0;32m--> 453\u001b[0;31m                 \u001b[0mcnx\u001b[0m\u001b[0;34m.\u001b[0m\u001b[0mdo_handshake\u001b[0m\u001b[0;34m(\u001b[0m\u001b[0;34m)\u001b[0m\u001b[0;34m\u001b[0m\u001b[0;34m\u001b[0m\u001b[0m\n\u001b[0m\u001b[1;32m    454\u001b[0m             \u001b[0;32mexcept\u001b[0m \u001b[0mOpenSSL\u001b[0m\u001b[0;34m.\u001b[0m\u001b[0mSSL\u001b[0m\u001b[0;34m.\u001b[0m\u001b[0mWantReadError\u001b[0m\u001b[0;34m:\u001b[0m\u001b[0;34m\u001b[0m\u001b[0;34m\u001b[0m\u001b[0m\n\u001b[1;32m    455\u001b[0m                 \u001b[0;32mif\u001b[0m \u001b[0;32mnot\u001b[0m \u001b[0mutil\u001b[0m\u001b[0;34m.\u001b[0m\u001b[0mwait_for_read\u001b[0m\u001b[0;34m(\u001b[0m\u001b[0msock\u001b[0m\u001b[0;34m,\u001b[0m \u001b[0msock\u001b[0m\u001b[0;34m.\u001b[0m\u001b[0mgettimeout\u001b[0m\u001b[0;34m(\u001b[0m\u001b[0;34m)\u001b[0m\u001b[0;34m)\u001b[0m\u001b[0;34m:\u001b[0m\u001b[0;34m\u001b[0m\u001b[0;34m\u001b[0m\u001b[0m\n",
      "\u001b[0;32m~/.local/lib/python3.6/site-packages/OpenSSL/SSL.py\u001b[0m in \u001b[0;36mdo_handshake\u001b[0;34m(self)\u001b[0m\n\u001b[1;32m   1912\u001b[0m         \u001b[0;34m:\u001b[0m\u001b[0;32mreturn\u001b[0m\u001b[0;34m:\u001b[0m \u001b[0;32mNone\u001b[0m\u001b[0;34m.\u001b[0m\u001b[0;34m\u001b[0m\u001b[0;34m\u001b[0m\u001b[0m\n\u001b[1;32m   1913\u001b[0m         \"\"\"\n\u001b[0;32m-> 1914\u001b[0;31m         \u001b[0mresult\u001b[0m \u001b[0;34m=\u001b[0m \u001b[0m_lib\u001b[0m\u001b[0;34m.\u001b[0m\u001b[0mSSL_do_handshake\u001b[0m\u001b[0;34m(\u001b[0m\u001b[0mself\u001b[0m\u001b[0;34m.\u001b[0m\u001b[0m_ssl\u001b[0m\u001b[0;34m)\u001b[0m\u001b[0;34m\u001b[0m\u001b[0;34m\u001b[0m\u001b[0m\n\u001b[0m\u001b[1;32m   1915\u001b[0m         \u001b[0mself\u001b[0m\u001b[0;34m.\u001b[0m\u001b[0m_raise_ssl_error\u001b[0m\u001b[0;34m(\u001b[0m\u001b[0mself\u001b[0m\u001b[0;34m.\u001b[0m\u001b[0m_ssl\u001b[0m\u001b[0;34m,\u001b[0m \u001b[0mresult\u001b[0m\u001b[0;34m)\u001b[0m\u001b[0;34m\u001b[0m\u001b[0;34m\u001b[0m\u001b[0m\n\u001b[1;32m   1916\u001b[0m \u001b[0;34m\u001b[0m\u001b[0m\n",
      "\u001b[0;31mKeyboardInterrupt\u001b[0m: "
     ]
    }
   ],
   "source": [
    "BFS('akshay-99')"
   ]
  },
  {
   "cell_type": "code",
   "execution_count": null,
   "metadata": {},
   "outputs": [],
   "source": []
  }
 ],
 "metadata": {
  "kernelspec": {
   "display_name": "Python 3",
   "language": "python",
   "name": "python3"
  },
  "language_info": {
   "codemirror_mode": {
    "name": "ipython",
    "version": 3
   },
   "file_extension": ".py",
   "mimetype": "text/x-python",
   "name": "python",
   "nbconvert_exporter": "python",
   "pygments_lexer": "ipython3",
   "version": "3.6.7"
  }
 },
 "nbformat": 4,
 "nbformat_minor": 2
}
